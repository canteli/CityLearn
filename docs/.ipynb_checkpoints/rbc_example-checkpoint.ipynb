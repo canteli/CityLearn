{
 "cells": [
  {
   "cell_type": "code",
   "execution_count": 2,
   "metadata": {},
   "outputs": [],
   "source": [
    "from citylearn import  CityLearn, building_loader, auto_size\n",
    "from energy_models import HeatPump, EnergyStorage, Building\n",
    "import matplotlib.pyplot as plt\n",
    "import collections\n",
    "import gym\n",
    "from gym.utils import seeding\n",
    "from gym import core, spaces\n",
    "import os\n",
    "import time\n",
    "import argparse\n",
    "from matplotlib.pyplot import figure\n",
    "import numpy as np"
   ]
  },
  {
   "cell_type": "code",
   "execution_count": 3,
   "metadata": {},
   "outputs": [],
   "source": [
    "from pathlib import Path\n",
    "\n",
    "data_folder = Path(\"data/\")\n",
    "\n",
    "demand_file = data_folder / \"AustinResidential_TH.csv\"\n",
    "weather_file = data_folder / 'Austin_Airp_TX-hour.csv'\n",
    "\n",
    "building_ids = [4, 5, 9, 16, 21, 26, 33, 36, 49, 59]\n",
    "\n",
    "heat_pump, heat_tank, cooling_tank = {}, {}, {}\n",
    "\n",
    "#Ref: Assessment of energy efficiency in electric storage water heaters (2008 Energy and Buildings)\n",
    "loss_factor = 0.19/24\n",
    "buildings = {}\n",
    "for uid in building_ids:\n",
    "    heat_pump[uid] = HeatPump(nominal_power = 9e12, eta_tech = 0.22, t_target_heating = 45, t_target_cooling = 10)\n",
    "    heat_tank[uid] = EnergyStorage(capacity = 9e12, loss_coeff = loss_factor)\n",
    "    cooling_tank[uid] = EnergyStorage(capacity = 9e12, loss_coeff = loss_factor)\n",
    "    buildings[uid] = Building(uid, heating_storage = heat_tank[uid], cooling_storage = cooling_tank[uid], heating_device = heat_pump[uid], cooling_device = heat_pump[uid])\n",
    "    buildings[uid].state_space(np.array([24.0, 40.0, 1.001]), np.array([1.0, 17.0, -0.001]))\n",
    "    buildings[uid].action_space(np.array([0.5]), np.array([-0.5]))\n",
    "\n",
    "building_loader(demand_file, weather_file, buildings)\n",
    "auto_size(buildings, t_target_heating = 45, t_target_cooling = 10)\n",
    "\n",
    "env = {}\n",
    "for uid in building_ids:\n",
    "    env[uid] = CityLearn(demand_file, weather_file, buildings = {uid: buildings[uid]}, time_resolution = 1, simulation_period = (3500,6000))\n",
    "    env[uid](uid)"
   ]
  },
  {
   "cell_type": "code",
   "execution_count": 8,
   "metadata": {},
   "outputs": [
    {
     "data": {
      "text/plain": [
       "(array([21. , 28.3,  0. ]), 0.0, False, {})"
      ]
     },
     "execution_count": 8,
     "metadata": {},
     "output_type": "execute_result"
    }
   ],
   "source": [
    "env[4].step([0])"
   ]
  },
  {
   "cell_type": "code",
   "execution_count": 11,
   "metadata": {},
   "outputs": [
    {
     "data": {
      "text/plain": [
       "3501"
      ]
     },
     "execution_count": 11,
     "metadata": {},
     "output_type": "execute_result"
    }
   ],
   "source": [
    "env[4].buildings[4].time_step"
   ]
  },
  {
   "cell_type": "code",
   "execution_count": null,
   "metadata": {},
   "outputs": [],
   "source": []
  },
  {
   "cell_type": "code",
   "execution_count": null,
   "metadata": {},
   "outputs": [],
   "source": []
  },
  {
   "cell_type": "code",
   "execution_count": null,
   "metadata": {},
   "outputs": [],
   "source": [
    "#RULE BASED CONTROLLER\n",
    "class AgentRBC:\n",
    "    def __init__(self):\n",
    "        self.hour = 3500\n",
    "    def select_action(self, states):\n",
    "        rand_num = random.randint(-2,2)\n",
    "        hour_day = states[0]\n",
    "        #DAYTIME\n",
    "        action1 = 0\n",
    "        if hour_day >= 14+rand_num and hour_day <= 21+rand_num:\n",
    "            #SUMMER (RELEASE COOLING)\n",
    "            action1 = -0.5\n",
    "        #NIGHTTIME       \n",
    "        elif hour_day >= 4+rand_num and hour_day <= 8+rand_num:\n",
    "            #SUMMER (STORE COOLING)\n",
    "            action1 = 0.5\n",
    "        return action1"
   ]
  },
  {
   "cell_type": "code",
   "execution_count": null,
   "metadata": {},
   "outputs": [],
   "source": [
    "agent = AgentRBC()\n",
    "terminal = False\n",
    "states = env.reset()\n",
    "state_track = []\n",
    "reward_track = []\n",
    "for n in range(10):\n",
    "    while not terminal:\n",
    "        states, reward, terminal, _ = env.step(agent.select_action(states))\n",
    "        state_track.append(states)\n",
    "        reward_track.append(reward)\n",
    "    sum(reward_track)\n",
    "    rew = {}\n",
    "#     for uid in buildings:\n",
    "#         rew[uid] = env.building[uid].electricalControlled[3500:6000]\n",
    "#     filename_results = 'RBC_DUMMY'+str(n)+'.csv'\n",
    "#     results = pd.DataFrame.from_dict(rew)\n",
    "#     results.to_csv(filename_results,index=False)"
   ]
  },
  {
   "cell_type": "code",
   "execution_count": null,
   "metadata": {},
   "outputs": [],
   "source": []
  }
 ],
 "metadata": {
  "kernelspec": {
   "display_name": "Python 3",
   "language": "python",
   "name": "python3"
  },
  "language_info": {
   "codemirror_mode": {
    "name": "ipython",
    "version": 3
   },
   "file_extension": ".py",
   "mimetype": "text/x-python",
   "name": "python",
   "nbconvert_exporter": "python",
   "pygments_lexer": "ipython3",
   "version": "3.7.3"
  }
 },
 "nbformat": 4,
 "nbformat_minor": 2
}
